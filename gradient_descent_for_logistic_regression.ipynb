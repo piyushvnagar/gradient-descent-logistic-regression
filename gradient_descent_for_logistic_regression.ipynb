{
  "nbformat": 4,
  "nbformat_minor": 0,
  "metadata": {
    "kernelspec": {
      "display_name": "Python 3",
      "language": "python",
      "name": "python3"
    },
    "language_info": {
      "codemirror_mode": {
        "name": "ipython",
        "version": 3
      },
      "file_extension": ".py",
      "mimetype": "text/x-python",
      "name": "python",
      "nbconvert_exporter": "python",
      "pygments_lexer": "ipython3",
      "version": "3.7.1"
    },
    "colab": {
      "provenance": []
    }
  },
  "cells": [
    {
      "cell_type": "markdown",
      "metadata": {
        "id": "sYod8Sixyq0c"
      },
      "source": [
        "This notebook implements the gradient descent algorithm for a network with a single neuron with sigmoid activation. As explained in the lecture, This network is equivalent to a logistic regression model and is not a deep neural network but it helps illustrate the gradient descent algorithm."
      ]
    },
    {
      "cell_type": "code",
      "metadata": {
        "id": "Kl0hzQy4yq0d"
      },
      "source": [
        "#importing the required libraries\n",
        "import numpy as np\n",
        "import matplotlib.pyplot as plt\n"
      ],
      "execution_count": null,
      "outputs": []
    },
    {
      "cell_type": "markdown",
      "metadata": {
        "id": "YVMIShHMyq0h"
      },
      "source": [
        "We first start off by creating the tiny training dataset in the lecture consisting of three training examples. This way, you can follow the gradient descent algorithm with the lectures."
      ]
    },
    {
      "cell_type": "code",
      "metadata": {
        "id": "enNEvlaSyq0h",
        "colab": {
          "base_uri": "https://localhost:8080/"
        },
        "outputId": "d9221e88-8cee-4d3e-d39f-cdc69e69d251"
      },
      "source": [
        "# creating the x and y arrays based on the example in the lecture.\n",
        "x=np.array([[1,1,0.5],[1,0,0.2]])\n",
        "y=np.array([1,0,0])\n",
        "x"
      ],
      "execution_count": null,
      "outputs": [
        {
          "output_type": "execute_result",
          "data": {
            "text/plain": [
              "array([[1. , 1. , 0.5],\n",
              "       [1. , 0. , 0.2]])"
            ]
          },
          "metadata": {},
          "execution_count": 2
        }
      ]
    },
    {
      "cell_type": "markdown",
      "metadata": {
        "id": "usndVnjRyq0l"
      },
      "source": [
        "Now we need to create a set of utility function including:\n",
        "- __sigmoid__:The activation function\n",
        "- __initialize__: A function to initialize weights and biases ( for similicity we initialize all the weights to the same initial value passed as an argument to the function\n",
        "- __network_output__: A function to compute the network output\n",
        "- __compute_loss__:A function that computes the binary cross entropy loss\n",
        "- __compute_gradients__: A function that computes the gradients for the weight vector and bias\n",
        "- __update_parameters__:A function that gets the current value of the parameters as well as their gradient and update them using the gradient descent updating rule\n",
        "- __gradient_descent__: A function that puts all the above utility functions together to implement the gradient descent algorithm\n",
        "\n",
        "To simplify the code and computation, we use the vectorized notations; that is, if $m$ is the number of input features and $n$ is the number of training examples:\n",
        "- $x$: is the matrix of training examples with dimension $m\\times n$  \n",
        "- $w$ is the weight vector of the neuron and has length $m$\n",
        "- $a$ is the vector of network's output for all trianing examples and has length $n$.\n",
        "- $y$ is the vector of the observed output for all training examples and has length $n$.\n",
        "- $z$ is the vector of neuron's linear function for all training examples and has length $n$."
      ]
    },
    {
      "cell_type": "code",
      "metadata": {
        "id": "MpV4G_Dqyq0m"
      },
      "source": [
        "def sigmoid(z):\n",
        "    return (1/(1+np.exp(-z)))"
      ],
      "execution_count": null,
      "outputs": []
    },
    {
      "cell_type": "code",
      "metadata": {
        "id": "zKgVEq-eyq0q"
      },
      "source": [
        "def initialize(weights ,bias):\n",
        "    b=bias\n",
        "    w=weights\n",
        "    return w,b"
      ],
      "execution_count": null,
      "outputs": []
    },
    {
      "cell_type": "code",
      "metadata": {
        "id": "lZXKmAa4yq0w"
      },
      "source": [
        "def network_output(w,b,x):\n",
        "    z=np.dot(w.T,x)+b\n",
        "    a=sigmoid(z)\n",
        "    return a"
      ],
      "execution_count": null,
      "outputs": []
    },
    {
      "cell_type": "code",
      "metadata": {
        "id": "PDVdo23Kyq0z"
      },
      "source": [
        "def compute_loss(a,y):\n",
        "    n=a.shape[0]\n",
        "    loss = (1 / n) * -np.sum(y * np.log2(a) + (1 - y) * (np.log2(1 - a)))  # compute cost\n",
        "    return loss\n"
      ],
      "execution_count": null,
      "outputs": []
    },
    {
      "cell_type": "markdown",
      "metadata": {
        "id": "Ad8pT3dVyq02"
      },
      "source": [
        "To compute $dw$ in vectorized form, we multiply matrix $x$ with vector $a-y$, that is np.dot(x,(a-y)) performs the following computation:\n",
        "$$\\begin{pmatrix}dw_1 \\\\dw_2\\\\ \\vdots\\\\dw_m \\end{pmatrix}=\\begin{pmatrix} x_{11} & x_{21} & \\dots & x_{n1} \\\\ x_{12} & x_{22} & \\dots & x_{n2}\\\\&& \\vdots &\\\\ x_{1m} & x_{2m} & \\dots &x_{nm} \\end{pmatrix}\\times\\begin{pmatrix}a_1-y_1 \\\\ a_2-y_2 \\\\ \\vdots \\\\a_n-y_n\\end{pmatrix}=\\begin{pmatrix}x_{11}(a_1-y_1)+x_{21}(a_2-y_2)+\\dots+x_{n1}(a_n-y_n)\\\\x_{21}(a_1-y_1)+x_{22}(a_2-y_2)+\\dots+x_{n2}(a_n-y_n)\\\\ \\vdots\\\\x_{m1}(a_1-y_1)+x_{m2}(a_2-y_2)+\\dots+x_{nm}(a_n-y_n)\\end{pmatrix}$$"
      ]
    },
    {
      "cell_type": "code",
      "metadata": {
        "id": "vqlSkTySyq05"
      },
      "source": [
        "def compute_gradients(a,y,x):\n",
        "    n=x.shape[1]\n",
        "    '''\n",
        "     np.dot performs matrix multiplication on x (of dimensions m*n) and vector (a-y) of dimensions n.\n",
        "     This gives us a vector of the form [dw1 dw2...dwm]\n",
        "    '''\n",
        "    dw=1/n*np.dot(x,(a-y))\n",
        "    db=1/n*np.sum(a-y)\n",
        "    return dw,db"
      ],
      "execution_count": null,
      "outputs": []
    },
    {
      "cell_type": "code",
      "metadata": {
        "id": "XHK_3HiLyq1A"
      },
      "source": [
        "def update_parameters(w,b,dw,db, learning_rate):\n",
        "    w= w-learning_rate*dw\n",
        "    b=b-learning_rate*db\n",
        "    return w,b"
      ],
      "execution_count": null,
      "outputs": []
    },
    {
      "cell_type": "code",
      "metadata": {
        "id": "E6-zplKfyq1C"
      },
      "source": [
        "def gradient_descent(x,y,initial_weights,initial_b,learning_rate,num_iter):\n",
        "    n_features=x.shape[0]\n",
        "    w,b=initialize(initial_weights,0)\n",
        "    losses=[]\n",
        "    for i in range(num_iter):\n",
        "        a=network_output(w,b,x)\n",
        "        losses.append(compute_loss(a,y))\n",
        "        dw,db=compute_gradients(a,y,x)\n",
        "        w,b=update_parameters(w,b,dw,db,learning_rate)\n",
        "    return losses\n"
      ],
      "execution_count": null,
      "outputs": []
    },
    {
      "cell_type": "markdown",
      "metadata": {
        "id": "xtmCMxYT7htB"
      },
      "source": [
        "We can now call the gradient descent algorithm on the example data (x and y array) and plot the loss function for each iteration. As you can see in the figure, the loss function decreases per iteration of gradient descent. This is because in each iteration of we are updating the parameters towards the direction of the gradient; that is, the direction towards which the loss function has maximum decrease."
      ]
    },
    {
      "cell_type": "code",
      "metadata": {
        "id": "Qihw3s2v7j3T",
        "colab": {
          "base_uri": "https://localhost:8080/",
          "height": 449
        },
        "outputId": "e85fe5ae-85f4-4974-b4b0-2c81fd13390e"
      },
      "source": [
        "losses=gradient_descent(x,y,initial_weights= np.array([0.1,0.1]),initial_b=0,learning_rate=0.1,num_iter=2000)\n",
        "#plotting the loss function for each iteration of gradient descent\n",
        "plt.plot(losses)\n",
        "plt.ylabel('loss')\n",
        "plt.xlabel('iterations')\n",
        "plt.show()"
      ],
      "execution_count": null,
      "outputs": [
        {
          "output_type": "display_data",
          "data": {
            "text/plain": [
              "<Figure size 640x480 with 1 Axes>"
            ],
            "image/png": "[encoded data removed]"
          },
          "metadata": {}
        }
      ]
    }
  ]
}